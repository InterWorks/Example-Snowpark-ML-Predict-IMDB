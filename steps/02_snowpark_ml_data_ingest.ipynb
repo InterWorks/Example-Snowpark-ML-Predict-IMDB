{
 "cells": [
  {
   "cell_type": "markdown",
   "metadata": {},
   "source": [
    "# Environment setup\n",
    "\n",
    "The `scooby doo` dataset can be downloaded from Kaggle https://www.kaggle.com/datasets/williamschooleman/scoobydoo-complete <br>\n",
    "Once the snowflake environment is set (creation of snowflake objects such as roles, DB, schema, WH), this code stages the dataset from a local file and then uses snowpark to write the clean data to a snowflake table. <br>\n",
    "<br>\n",
    "To setup your python environment and assuming you have conda or miniconda installed, you can create the environment using the conda_env.yml requirements.\n",
    "\n",
    "`conda env create -f conda_env.yml`\n",
    "\n",
    "Once it is created, you can activate it by calling:\n",
    "\n",
    "`conda activate snowpark-ml-scooby`\n",
    "\n",
    "\n",
    "**Note:** One step of the preparation uses the function `array_sort` introduced in `snowflake-snowpark-python==1.6.1` <br>\n",
    "This might be ahead of the version in Snowflake instance, so we might receive some warning regarding this."
   ]
  },
  {
   "cell_type": "markdown",
   "metadata": {},
   "source": [
    "## Imports"
   ]
  },
  {
   "cell_type": "code",
   "execution_count": null,
   "metadata": {},
   "outputs": [],
   "source": [
    "#Snowpark for python\n",
    "from snowflake.snowpark.session import Session\n",
    "from snowflake.snowpark.version import VERSION\n",
    "from snowflake.snowpark.types import StructType, StructField, FloatType, StringType, IntegerType, BooleanType, DateType\n",
    "import snowflake.snowpark.functions as F\n",
    "\n",
    "#Data Science libs\n",
    "import numpy as np\n",
    "\n",
    "#Misc \n",
    "import getpass\n",
    "import pandas as pd\n",
    "import json"
   ]
  },
  {
   "cell_type": "markdown",
   "metadata": {},
   "source": [
    "## Create Snowpark Session"
   ]
  },
  {
   "cell_type": "code",
   "execution_count": null,
   "metadata": {},
   "outputs": [],
   "source": [
    "accountname = getpass.getpass() # ORGNAME-ACCOUNTNAME (separated by minus sign)"
   ]
  },
  {
   "cell_type": "code",
   "execution_count": null,
   "metadata": {},
   "outputs": [],
   "source": [
    "username = getpass.getpass()    # SNOWFLAKE-USERNAME"
   ]
  },
  {
   "cell_type": "code",
   "execution_count": null,
   "metadata": {},
   "outputs": [],
   "source": [
    "password = getpass.getpass()    # SNOWFLAKE-PASSWORD"
   ]
  },
  {
   "cell_type": "code",
   "execution_count": null,
   "metadata": {},
   "outputs": [],
   "source": [
    "connection_parameters = {\n",
    "    \"account\": accountname,\n",
    "    \"user\": username,\n",
    "    \"password\": password,\n",
    "    \"role\": \"LAB001_ROLE\",\n",
    "    \"database\" : 'LAB001_DB',\n",
    "    \"schema\" : 'SCOOBY_SCHEMA',\n",
    "    \"warehouse\" : 'LAB001_WH',\n",
    "    \"ENABLE_ARRAY_SORT_FUNCTION\" : True\n",
    "}\n",
    "\n",
    "session = Session.builder.configs(connection_parameters).create()\n",
    "\n",
    "\n",
    "snowflake_environment = session.sql('SELECT current_user(), current_version()').collect()\n",
    "snowpark_version = VERSION\n",
    "\n",
    "# Current Environment Details\n",
    "print('\\nConnection Established with the following parameters:')\n",
    "print('User                        : {}'.format(snowflake_environment[0][0]))\n",
    "print('Role                        : {}'.format(session.get_current_role()))\n",
    "print('Database                    : {}'.format(session.get_current_database()))\n",
    "print('Schema                      : {}'.format(session.get_current_schema()))\n",
    "print('Warehouse                   : {}'.format(session.get_current_warehouse()))\n",
    "print('Snowflake version           : {}'.format(snowflake_environment[0][1]))\n",
    "print('Snowpark for Python version : {}.{}.{}'.format(snowpark_version[0],snowpark_version[1],snowpark_version[2]))"
   ]
  },
  {
   "cell_type": "markdown",
   "metadata": {},
   "source": [
    "## Save credentials to a JSON file for reuse\n",
    "Store the connection_parameters into a JSON file for reuse later in the HOL.  \n",
    "**PLEASE BE AWARE THAT PASSWORD ARE STORED IN CLEAR TEXT!**"
   ]
  },
  {
   "cell_type": "code",
   "execution_count": null,
   "metadata": {},
   "outputs": [],
   "source": [
    "with open('creds.json', 'w') as outfile:\n",
    "        outfile.write(json.dumps(connection_parameters))"
   ]
  },
  {
   "cell_type": "markdown",
   "metadata": {},
   "source": [
    "Create the Snowpark session with saved credentials"
   ]
  },
  {
   "cell_type": "code",
   "execution_count": null,
   "metadata": {},
   "outputs": [],
   "source": [
    "with open('creds.json') as f:\n",
    "    connection_parameters = json.load(f)\n",
    "\n",
    "session = Session.builder.configs(connection_parameters).create()\n",
    "\n",
    "snowflake_environment = session.sql('SELECT current_user(), current_version()').collect()\n",
    "snowpark_version = VERSION\n",
    "\n",
    "# Current Environment Details\n",
    "print('\\nConnection Established with the following parameters:')\n",
    "print('User                        : {}'.format(snowflake_environment[0][0]))\n",
    "print('Role                        : {}'.format(session.get_current_role()))\n",
    "print('Database                    : {}'.format(session.get_current_database()))\n",
    "print('Schema                      : {}'.format(session.get_current_schema()))\n",
    "print('Warehouse                   : {}'.format(session.get_current_warehouse()))\n",
    "print('Snowflake version           : {}'.format(snowflake_environment[0][1]))\n",
    "print('Snowpark for Python version : {}.{}.{}'.format(snowpark_version[0],snowpark_version[1],snowpark_version[2]))"
   ]
  },
  {
   "cell_type": "markdown",
   "metadata": {},
   "source": [
    "## Data Ingestion\n",
    "### Use the Snowpark DataFrame Reader to read in data from the local CSV file \n",
    "\n",
    "For more information on loading data, see documentation on [snowflake.snowpark.DataFrameReader](https://docs.snowflake.com/ko/developer-guide/snowpark/reference/python/api/snowflake.snowpark.DataFrameReader.html)."
   ]
  },
  {
   "cell_type": "code",
   "execution_count": null,
   "metadata": {},
   "outputs": [],
   "source": [
    "# Stage the local file\n",
    "_ = session.file.put(\"../data/scoobydoo_20211019.csv\", \"@LAB001_DB.SCOOBY_SCHEMA.SCOOBY_ASSETS \", auto_compress=False)"
   ]
  },
  {
   "cell_type": "code",
   "execution_count": null,
   "metadata": {},
   "outputs": [],
   "source": [
    "# Define the schema for the data in the CSV file, all string as we'll cast later on\n",
    "scooby_schema = StructType([StructField(\"index\", StringType()), \n",
    "                              StructField(\"series_name\", StringType()),\n",
    "                              StructField(\"network\", StringType()),\n",
    "                              StructField(\"season\", StringType()), \n",
    "                              StructField(\"title\", StringType()),\n",
    "                              StructField(\"imdb\", StringType()),\n",
    "                              StructField(\"engagement\", StringType()),\n",
    "                              StructField(\"date_aired\", StringType()),\n",
    "                              StructField(\"run_time\", StringType()),\n",
    "                              StructField(\"format\", StringType()),\n",
    "                              StructField(\"monster_name\", StringType()),\n",
    "                              StructField(\"monster_gender\", StringType()),\n",
    "                              StructField(\"monster_type\", StringType()),\n",
    "                              StructField(\"monster_subtype\", StringType()),\n",
    "                              StructField(\"monster_species\", StringType()),\n",
    "                              StructField(\"monster_real\", StringType()),\n",
    "                              StructField(\"monster_amount\", StringType()),\n",
    "                              StructField(\"caught_fred\", StringType()),\n",
    "                              StructField(\"caught_daphne\", StringType()),\n",
    "                              StructField(\"caught_velma\", StringType()),\n",
    "                              StructField(\"caught_shaggy\", StringType()),\n",
    "                              StructField(\"caught_scooby\", StringType()),\n",
    "                              StructField(\"captured_fred\", StringType()),\n",
    "                              StructField(\"captured_daphne\", StringType()),\n",
    "                              StructField(\"captured_velma\", StringType()),\n",
    "                              StructField(\"captured_shaggy\", StringType()),\n",
    "                              StructField(\"captured_scooby\", StringType()),\n",
    "                              StructField(\"unmask_fred\", StringType()),\n",
    "                              StructField(\"unmask_daphne\", StringType()),\n",
    "                              StructField(\"unmask_velma\", StringType()),\n",
    "                              StructField(\"unmask_shaggy\", StringType()),\n",
    "                              StructField(\"unmask_scooby\", StringType()),\n",
    "                              StructField(\"snack_fred\", StringType()),\n",
    "                              StructField(\"snack_daphne\", StringType()),\n",
    "                              StructField(\"snack_velma\", StringType()),\n",
    "                              StructField(\"snack_shaggy\", StringType()),\n",
    "                              StructField(\"snack_scooby\", StringType()),\n",
    "                              StructField(\"unmask_other\", StringType()),\n",
    "                              StructField(\"caught_other\", StringType()),\n",
    "                              StructField(\"caught_not\", StringType()),\n",
    "                              StructField(\"trap_work_first\", StringType()),\n",
    "                              StructField(\"setting_terrain\", StringType()),\n",
    "                              StructField(\"setting_country_state\", StringType()),\n",
    "                              StructField(\"suspects_amount\", StringType()),\n",
    "                              StructField(\"non_suspect\", StringType()),\n",
    "                              StructField(\"arrested\", StringType()),\n",
    "                              StructField(\"culprit_name\", StringType()),\n",
    "                              StructField(\"culprit_gender\", StringType()),\n",
    "                              StructField(\"culprit_amount\", StringType()),\n",
    "                              StructField(\"motive\", StringType()),\n",
    "                              StructField(\"if_it_wasnt_for\", StringType()),\n",
    "                              StructField(\"and_that\", StringType()),\n",
    "                              StructField(\"door_gag\", StringType()),\n",
    "                              StructField(\"nunber_of_snacks\", StringType()),\n",
    "                              StructField(\"split_up\", StringType()),\n",
    "                              StructField(\"another_mystery\", StringType()),\n",
    "                              StructField(\"set_a_trap\", StringType()),\n",
    "                              StructField(\"jeepers\", StringType()),\n",
    "                              StructField(\"jinkies\", StringType()),\n",
    "                              StructField(\"my_glasses\", StringType()),\n",
    "                              StructField(\"just_about_wrapped_up\", StringType()),\n",
    "                              StructField(\"zoinks\", StringType()),\n",
    "                              StructField(\"groovy\", StringType()),\n",
    "                              StructField(\"scooby_doo_where_are_you\", StringType()),\n",
    "                              StructField(\"rooby_rooby_roo\", StringType()),\n",
    "                              StructField(\"batman\", StringType()),\n",
    "                              StructField(\"scooby_dum\", StringType()),\n",
    "                              StructField(\"scrappy_doo\", StringType()),\n",
    "                              StructField(\"hex_girls\", StringType()),\n",
    "                              StructField(\"blue_falcon\", StringType()),\n",
    "                              StructField(\"fred_va\", StringType()),\n",
    "                              StructField(\"daphne_va\", StringType()),\n",
    "                              StructField(\"velma_va\", StringType()),\n",
    "                              StructField(\"shaggy_va\", StringType()),\n",
    "                              StructField(\"scooby_va\", StringType())\n",
    "                              ])\n",
    "\n",
    "# Create a Snowpark DataFrame that is configured to load data from the CSV file\n",
    "scooby_df = session.read.options({\"field_delimiter\": \",\", \n",
    "                                    \"skip_header\": 1,\n",
    "                                    \"field_optionally_enclosed_by\": '\"'}).schema(scooby_schema).csv(\"@SCOOBY_ASSETS\")"
   ]
  },
  {
   "cell_type": "markdown",
   "metadata": {},
   "source": [
    "Cast the data types per type, use try_cast that fills with NULL if there is an invaid value"
   ]
  },
  {
   "cell_type": "code",
   "execution_count": null,
   "metadata": {},
   "outputs": [],
   "source": [
    "int_array = [\"ENGAGEMENT\",\"RUN_TIME\",\"MONSTER_AMOUNT\",\"SUSPECTS_AMOUNT\",\"CULPRIT_AMOUNT\",\"SPLIT_UP\",\"ANOTHER_MYSTERY\",\"SET_A_TRAP\",\"JEEPERS\",\"JINKIES\",\"MY_GLASSES\"\n",
    ",\"JUST_ABOUT_WRAPPED_UP\",\"ZOINKS\",\"GROOVY\",\"SCOOBY_DOO_WHERE_ARE_YOU\",\"ROOBY_ROOBY_ROO\"]\n",
    "float_array = [\"IMDB\"]\n",
    "boolean_array = [\"MONSTER_REAL\",\"CAUGHT_FRED\",\"CAUGHT_DAPHNE\",\"CAUGHT_VELMA\",\"CAUGHT_SHAGGY\",\"CAUGHT_SCOOBY\"\n",
    ",\"CAPTURED_FRED\",\"CAPTURED_DAPHNE\",\"CAPTURED_VELMA\",\"CAPTURED_SHAGGY\",\"CAPTURED_SCOOBY\"\n",
    ",\"UNMASK_FRED\",\"UNMASK_DAPHNE\",\"UNMASK_VELMA\",\"UNMASK_SHAGGY\",\"UNMASK_SCOOBY\"\n",
    ",\"SNACK_FRED\",\"SNACK_DAPHNE\",\"SNACK_VELMA\",\"SNACK_SHAGGY\",\"SNACK_SCOOBY\",\"UNMASK_OTHER\",\"CAUGHT_OTHER\",\"CAUGHT_NOT\",\"TRAP_WORK_FIRST\",\"NON_SUSPECT\",\"ARRESTED\",\"DOOR_GAG\"\n",
    ",\"BATMAN\",\"SCOOBY_DUM\",\"SCRAPPY_DOO\",\"HEX_GIRLS\",\"BLUE_FALCON\"]\n",
    "\n",
    "for col in int_array :\n",
    "    scooby_df = scooby_df.with_column(col, F.try_cast(col,IntegerType()))\n",
    "\n",
    "for col in float_array:\n",
    "    scooby_df = scooby_df.with_column(col, F.try_cast(col,FloatType()))\n",
    "\n",
    "for col in boolean_array:\n",
    "    scooby_df = scooby_df.with_column(col, F.try_cast(col,BooleanType()))\n",
    "\n",
    "for col in [\"DATE_AIRED\"]:\n",
    "    scooby_df = scooby_df.with_column(\"DATE_AIRED_PARSED\", F.try_cast(col,DateType()))\n",
    "\n",
    "\n",
    "scooby_df.show()\n",
    "print(scooby_df.dtypes)"
   ]
  },
  {
   "cell_type": "code",
   "execution_count": null,
   "metadata": {},
   "outputs": [],
   "source": [
    "# Look at descriptive stats on the DataFrame\n",
    "scooby_df.describe().show()"
   ]
  },
  {
   "cell_type": "markdown",
   "metadata": {},
   "source": [
    "### Exploratory data analysis\n",
    "\n",
    "Explore the categorical columns that are considered candidate for the ML prediction"
   ]
  },
  {
   "cell_type": "code",
   "execution_count": null,
   "metadata": {},
   "outputs": [],
   "source": [
    "# Categorical Columns \n",
    "cat_array = [\"FORMAT\",\"NETWORK\",\"SETTING_TERRAIN\",\"SETTING_COUNTRY_STATE\",\"MOTIVE\"\n",
    "             ,\"MONSTER_GENDER\",\"MONSTER_TYPE\",\"MONSTER_SUBTYPE\",\"MONSTER_SPECIES\",\"CULPRIT_GENDER\"]\n",
    "\n",
    "for c in cat_array:\n",
    "    print(c + \" \" + str(len(set(scooby_df.select(F.col(c)).collect()))))\n",
    "\n",
    "print(scooby_df.count())\n",
    "print(set(scooby_df.select(F.col(\"FORMAT\")).collect()))\n",
    "print(set(scooby_df.select(F.col(\"NETWORK\")).collect()))\n",
    "print(set(scooby_df.select(F.col(\"SETTING_TERRAIN\")).collect()))\n",
    "print(set(scooby_df.select(F.col(\"SETTING_COUNTRY_STATE\")).collect()))\n",
    "print(set(scooby_df.select(F.col(\"MOTIVE\")).collect()))\n",
    "\n",
    "\n",
    "print(set(scooby_df.select(F.col(\"MONSTER_GENDER\")).collect()))\n",
    "print(set(scooby_df.select(F.col(\"MONSTER_TYPE\")).collect()))\n",
    "print(set(scooby_df.select(F.col(\"MONSTER_SUBTYPE\")).collect()))\n",
    "print(set(scooby_df.select(F.col(\"MONSTER_SPECIES\")).collect()))\n",
    "print(set(scooby_df.select(F.col(\"CULPRIT_GENDER\")).collect()))\n",
    "\n"
   ]
  },
  {
   "cell_type": "code",
   "execution_count": null,
   "metadata": {},
   "outputs": [],
   "source": [
    "#Few categories contain - and empty space , so we'll substitute this in the cleaning to make Super-Villain and Sea-Monster SUPERVILLAIN and SEAMONSTER and Possessed Object to POSSESEDOBJECT\n",
    "scooby_df.filter(F.contains(F.col(\"MONSTER_TYPE\"),F.lit(\" \")) | F.contains(F.col(\"MONSTER_TYPE\"),F.lit(\"-\"))).show()"
   ]
  },
  {
   "cell_type": "markdown",
   "metadata": {},
   "source": [
    "## Data Cleaning\n",
    "\n",
    "According to the findings of EDA, clean the data"
   ]
  },
  {
   "cell_type": "markdown",
   "metadata": {},
   "source": [
    "### 1. Standardise category formatting\n",
    "\n",
    "First, we standardize the category formatting for  `FORMAT` , `NETWORK` , `SETTING_TERRAIN` , `SETTING_COUNTRY_STATE` , `MOTIVE` using Snowpark DataFrame operations.\n",
    "\n",
    "This way, when we write to a Snowflake table, there will be no inconsistencies in how the Snowpark DataFrame will read in the column names. Secondly, the feature transformations on categoricals will be easier to encode."
   ]
  },
  {
   "cell_type": "code",
   "execution_count": null,
   "metadata": {},
   "outputs": [],
   "source": [
    "unique_cat_array = [\"FORMAT\",\"NETWORK\",\"SETTING_TERRAIN\",\"SETTING_COUNTRY_STATE\",\"MOTIVE\"]\n",
    "\n",
    "def fix_values(column):\n",
    "    return F.upper(F.regexp_replace(F.col(column), '[^a-zA-Z0-9]+', '_'))\n",
    "\n",
    "for col in unique_cat_array:\n",
    "    scooby_df = scooby_df.with_column(col, fix_values(col))\n",
    "\n",
    "scooby_df.show()"
   ]
  },
  {
   "cell_type": "markdown",
   "metadata": {},
   "source": [
    "### 2. Standardised categories that contain various values \n",
    "\n",
    "When MONSTER_AMOUNT > 1 or CULPRIT_AMOUNT > 1, the columns contain one value per monster or culprit <br>\n",
    "For monster we standardised: `MONSTER_GENDER`,`MONSTER_TYPE`,`MONSTER_SUBTYPE`,`MONSTER_SPECIES` <br>\n",
    "For culprit we standardise: `CULPRIT_GENDER` <br>\n",
    "To standardised:\n",
    "<li> Clean individual value: upper cased, right trim for some values that contain a comma (,) at the end, <br> \n",
    "delete all non letters or number characters (except comma) using regexp_replace and empty substitute </li>\n",
    "<li> Transform the string to an array, deduple values and sort in alphabetical order </li>\n",
    "<li> Standardised to convert all non-letter and non-numbers characters to _ </li>"
   ]
  },
  {
   "cell_type": "code",
   "execution_count": null,
   "metadata": {},
   "outputs": [],
   "source": [
    "monster_cat_array = [\"MONSTER_GENDER\",\"MONSTER_TYPE\",\"MONSTER_SUBTYPE\",\"MONSTER_SPECIES\"]\n",
    "culprit_cat_array = [\"CULPRIT_GENDER\"]\n",
    "# [^a-zA-Z0-9|,]+   \\-+\n",
    "def unique_array(column):\n",
    "    ar = F.array_to_string(\n",
    "        F.array_sort(F.array_distinct(F.strtok_to_array(\n",
    "            F.regexp_replace(F.rtrim(F.upper(F.col(column)),F.lit(\",\")), '[^a-zA-Z0-9|,]+', '')\n",
    "            ,F.lit(\",\"))))\n",
    "        ,F.lit(\",\"))\n",
    "    return F.iff(F.col(column) != 'NULL', ar , None)\n",
    "\n",
    "for col in monster_cat_array:\n",
    "    scooby_df = scooby_df.with_column(col, F.iff(scooby_df[\"MONSTER_AMOUNT\"]>1,unique_array(col),\n",
    "    F.regexp_replace(F.rtrim(F.upper(F.col(col)),F.lit(\",\")), '[^a-zA-Z0-9|,]+', '')))\n",
    "\n",
    "for col in culprit_cat_array:\n",
    "    scooby_df = scooby_df.with_column(col, F.iff(scooby_df[\"CULPRIT_AMOUNT\"]>1,unique_array(col),\n",
    "    F.regexp_replace(F.rtrim(F.upper(F.col(col)),F.lit(\",\")), '[^a-zA-Z0-9|,]+', '')))\n",
    "\n",
    "for col in monster_cat_array:\n",
    "    scooby_df = scooby_df.with_column(col, fix_values(col))\n",
    "\n",
    "for col in culprit_cat_array:\n",
    "    scooby_df = scooby_df.with_column(col, fix_values(col))\n",
    "\n",
    "scooby_df.show()"
   ]
  },
  {
   "cell_type": "markdown",
   "metadata": {},
   "source": [
    "### 3. Review effects of the cleaning"
   ]
  },
  {
   "cell_type": "code",
   "execution_count": null,
   "metadata": {},
   "outputs": [],
   "source": [
    "# Categorical Columns after data cleaning\n",
    "cat_array = [\"FORMAT\",\"NETWORK\",\"SETTING_TERRAIN\",\"SETTING_COUNTRY_STATE\",\"MOTIVE\"\n",
    "             ,\"MONSTER_GENDER\",\"MONSTER_TYPE\",\"MONSTER_SUBTYPE\",\"MONSTER_SPECIES\",\"CULPRIT_GENDER\"]\n",
    "\n",
    "for c in cat_array:\n",
    "    print(c + \" \" + str(len(set(scooby_df.select(F.col(c)).collect()))))\n",
    "\n",
    "print(scooby_df.count())\n",
    "print(set(scooby_df.select(F.col(\"FORMAT\")).collect()))\n",
    "print(set(scooby_df.select(F.col(\"NETWORK\")).collect()))\n",
    "print(set(scooby_df.select(F.col(\"SETTING_TERRAIN\")).collect()))\n",
    "print(set(scooby_df.select(F.col(\"SETTING_COUNTRY_STATE\")).collect()))\n",
    "print(set(scooby_df.select(F.col(\"MOTIVE\")).collect()))\n",
    "\n",
    "\n",
    "print(set(scooby_df.select(F.col(\"MONSTER_GENDER\")).collect()))\n",
    "print(set(scooby_df.select(F.col(\"MONSTER_TYPE\")).collect()))\n",
    "print(set(scooby_df.select(F.col(\"MONSTER_SUBTYPE\")).collect()))\n",
    "print(set(scooby_df.select(F.col(\"MONSTER_SPECIES\")).collect()))\n",
    "print(set(scooby_df.select(F.col(\"CULPRIT_GENDER\")).collect()))"
   ]
  },
  {
   "cell_type": "code",
   "execution_count": null,
   "metadata": {},
   "outputs": [],
   "source": [
    "scooby_df.filter(F.col(\"MONSTER_AMOUNT\")>1).show()"
   ]
  },
  {
   "cell_type": "code",
   "execution_count": null,
   "metadata": {},
   "outputs": [],
   "source": [
    "scooby_df.filter(F.contains(F.col(\"MONSTER_TYPE\"),F.lit(\"POSSES\"))).show()"
   ]
  },
  {
   "cell_type": "code",
   "execution_count": null,
   "metadata": {},
   "outputs": [],
   "source": [
    "# Look at descriptive stats on the DataFrame\n",
    "scooby_df.describe().show()"
   ]
  },
  {
   "cell_type": "markdown",
   "metadata": {},
   "source": [
    "### 4. Write cleaned data to a snowflake table"
   ]
  },
  {
   "cell_type": "code",
   "execution_count": null,
   "metadata": {},
   "outputs": [],
   "source": [
    "scooby_df.write.mode('overwrite').save_as_table('scooby_clean')"
   ]
  },
  {
   "cell_type": "code",
   "execution_count": null,
   "metadata": {},
   "outputs": [],
   "source": [
    "session.close()"
   ]
  }
 ],
 "metadata": {
  "kernelspec": {
   "display_name": "snowpark-ml-scooby",
   "language": "python",
   "name": "python3"
  },
  "language_info": {
   "codemirror_mode": {
    "name": "ipython",
    "version": 3
   },
   "file_extension": ".py",
   "mimetype": "text/x-python",
   "name": "python",
   "nbconvert_exporter": "python",
   "pygments_lexer": "ipython3",
   "version": "3.9.0"
  },
  "orig_nbformat": 4
 },
 "nbformat": 4,
 "nbformat_minor": 2
}
